{
 "cells": [
  {
   "cell_type": "code",
   "execution_count": 12,
   "metadata": {},
   "outputs": [],
   "source": [
    "import os\n",
    "from icrawler.builtin import FlickrImageCrawler\n",
    "\n",
    "# os.environ[\"http_proxy\"] = \"http://proxy.uec.ac.jp:8080/\"\n",
    "# os.environ[\"https_proxy\"] = \"http://proxy.uec.ac.jp:8080/\""
   ]
  },
  {
   "cell_type": "code",
   "execution_count": 20,
   "metadata": {},
   "outputs": [],
   "source": [
    "def crawl_images(text, num, sort):\n",
    "    flickr_crawler = FlickrImageCrawler('c4ecbb61570d2038cb3c640f927f1623',\n",
    "                                        storage={\"root_dir\":\"imgs/{}_{}\".format(text, num)})\n",
    "    flickr_crawler.crawl(text=text, max_num=num, size_preference='small 320', sort='sort')"
   ]
  },
  {
   "cell_type": "code",
   "execution_count": 21,
   "metadata": {},
   "outputs": [
    {
     "name": "stderr",
     "output_type": "stream",
     "text": [
      "2022-01-18 08:00:23,348 - INFO - icrawler.crawler - start crawling...\n",
      "2022-01-18 08:00:23,350 - INFO - icrawler.crawler - starting 1 feeder threads...\n",
      "2022-01-18 08:00:23,352 - INFO - icrawler.crawler - starting 1 parser threads...\n",
      "2022-01-18 08:00:23,355 - INFO - icrawler.crawler - starting 1 downloader threads...\n",
      "2022-01-18 08:00:25,935 - INFO - parser - parsing result page https://api.flickr.com/services/rest/?method=flickr.photos.search&api_key=c4ecbb61570d2038cb3c640f927f1623&format=json&nojsoncallback=1&text=peach&sort=sort&page=1\n",
      "2022-01-18 08:00:26,620 - INFO - downloader - downloader-004 is waiting for new download tasks\n",
      "2022-01-18 08:00:26,629 - INFO - downloader - downloader-003 is waiting for new download tasks\n",
      "2022-01-18 08:00:26,687 - INFO - downloader - downloader-002 is waiting for new download tasks\n",
      "2022-01-18 08:00:26,705 - INFO - downloader - downloader-005 is waiting for new download tasks\n",
      "2022-01-18 08:00:26,705 - INFO - downloader - downloader-001 is waiting for new download tasks\n",
      "2022-01-18 08:00:27,928 - INFO - downloader - image #1\thttps://live.staticflickr.com/4852/45884342611_bc50f504f1_n.jpg\n",
      "2022-01-18 08:00:29,902 - INFO - downloader - image #2\thttps://live.staticflickr.com/65535/51827640655_b7042c6200_n.jpg\n",
      "2022-01-18 08:00:31,626 - INFO - downloader - downloader-004 is waiting for new download tasks\n",
      "2022-01-18 08:00:31,631 - INFO - downloader - downloader-003 is waiting for new download tasks\n",
      "2022-01-18 08:00:31,692 - INFO - downloader - downloader-002 is waiting for new download tasks\n",
      "2022-01-18 08:00:31,698 - INFO - downloader - image #3\thttps://live.staticflickr.com/65535/51827088349_ca4739dc6c_n.jpg\n",
      "2022-01-18 08:00:31,709 - INFO - downloader - downloader-005 is waiting for new download tasks\n",
      "2022-01-18 08:00:31,709 - INFO - downloader - downloader-001 is waiting for new download tasks\n",
      "2022-01-18 08:00:33,117 - INFO - downloader - image #4\thttps://live.staticflickr.com/65535/51826848308_95589840fe_n.jpg\n",
      "2022-01-18 08:00:34,460 - INFO - downloader - image #5\thttps://live.staticflickr.com/65535/51827425515_b701c59e73_n.jpg\n",
      "2022-01-18 08:00:36,309 - INFO - downloader - image #6\thttps://live.staticflickr.com/65535/51826871809_88476e9a82_n.jpg\n",
      "2022-01-18 08:00:36,632 - INFO - downloader - downloader-004 is waiting for new download tasks\n",
      "2022-01-18 08:00:36,635 - INFO - downloader - downloader-003 is waiting for new download tasks\n",
      "2022-01-18 08:00:36,696 - INFO - downloader - downloader-002 is waiting for new download tasks\n",
      "2022-01-18 08:00:36,713 - INFO - downloader - downloader-001 is waiting for new download tasks\n",
      "2022-01-18 08:00:36,713 - INFO - downloader - downloader-005 is waiting for new download tasks\n",
      "2022-01-18 08:00:37,098 - INFO - downloader - image #7\thttps://live.staticflickr.com/65535/51825366827_9a9b0f77ae_n.jpg\n",
      "2022-01-18 08:00:39,143 - INFO - downloader - image #8\thttps://live.staticflickr.com/65535/51826492496_e4cc8d61db_n.jpg\n",
      "2022-01-18 08:00:41,640 - INFO - downloader - downloader-004 is waiting for new download tasks\n",
      "2022-01-18 08:00:41,642 - INFO - downloader - downloader-003 is waiting for new download tasks\n",
      "2022-01-18 08:00:41,702 - INFO - downloader - downloader-002 is waiting for new download tasks\n",
      "2022-01-18 08:00:41,717 - INFO - downloader - downloader-001 is waiting for new download tasks\n",
      "2022-01-18 08:00:41,718 - INFO - downloader - downloader-005 is waiting for new download tasks\n",
      "2022-01-18 08:00:41,909 - INFO - downloader - image #9\thttps://live.staticflickr.com/65535/51825558052_0ceeea69e7_n.jpg\n",
      "2022-01-18 08:00:43,291 - INFO - downloader - image #10\thttps://live.staticflickr.com/65535/51825557737_edb264e12b_n.jpg\n",
      "2022-01-18 08:00:44,049 - INFO - downloader - downloaded images reach max num, thread downloader-001 is ready to exit\n",
      "2022-01-18 08:00:44,049 - INFO - downloader - thread downloader-001 exit\n",
      "2022-01-18 08:00:44,409 - INFO - icrawler.crawler - Crawling task done!\n",
      "2022-01-18 08:00:46,647 - INFO - downloader - downloader-004 is waiting for new download tasks\n",
      "2022-01-18 08:00:46,647 - INFO - downloader - downloader-003 is waiting for new download tasks\n",
      "2022-01-18 08:00:46,707 - INFO - downloader - downloader-002 is waiting for new download tasks\n",
      "2022-01-18 08:00:46,725 - INFO - downloader - downloader-001 is waiting for new download tasks\n",
      "2022-01-18 08:00:46,727 - INFO - downloader - downloader-005 is waiting for new download tasks\n",
      "2022-01-18 08:00:47,540 - INFO - parser - downloaded image reached max num, thread parser-001 is ready to exit\n",
      "2022-01-18 08:00:47,541 - INFO - parser - thread parser-001 exit\n",
      "2022-01-18 08:00:51,650 - INFO - downloader - downloader-004 is waiting for new download tasks\n",
      "2022-01-18 08:00:51,650 - INFO - downloader - downloader-003 is waiting for new download tasks\n",
      "2022-01-18 08:00:51,711 - INFO - downloader - downloader-002 is waiting for new download tasks\n",
      "2022-01-18 08:00:51,727 - INFO - downloader - downloader-001 is waiting for new download tasks\n",
      "2022-01-18 08:00:51,733 - INFO - downloader - downloader-005 is waiting for new download tasks\n",
      "2022-01-18 08:00:56,654 - INFO - downloader - downloader-004 is waiting for new download tasks\n",
      "2022-01-18 08:00:56,654 - INFO - downloader - downloader-003 is waiting for new download tasks\n",
      "2022-01-18 08:00:56,716 - INFO - downloader - downloader-002 is waiting for new download tasks\n",
      "2022-01-18 08:00:56,732 - INFO - downloader - downloader-001 is waiting for new download tasks\n",
      "2022-01-18 08:00:56,738 - INFO - downloader - downloader-005 is waiting for new download tasks\n",
      "2022-01-18 08:01:01,657 - INFO - downloader - downloader-004 is waiting for new download tasks\n",
      "2022-01-18 08:01:01,658 - INFO - downloader - downloader-003 is waiting for new download tasks\n",
      "2022-01-18 08:01:01,721 - INFO - downloader - downloader-002 is waiting for new download tasks\n",
      "2022-01-18 08:01:01,739 - INFO - downloader - downloader-001 is waiting for new download tasks\n",
      "2022-01-18 08:01:01,744 - INFO - downloader - downloader-005 is waiting for new download tasks\n",
      "2022-01-18 08:01:06,658 - INFO - downloader - downloader-004 is waiting for new download tasks\n",
      "2022-01-18 08:01:06,660 - INFO - downloader - downloader-003 is waiting for new download tasks\n",
      "2022-01-18 08:01:06,726 - INFO - downloader - downloader-002 is waiting for new download tasks\n",
      "2022-01-18 08:01:06,742 - INFO - downloader - downloader-001 is waiting for new download tasks\n",
      "2022-01-18 08:01:06,745 - INFO - downloader - downloader-005 is waiting for new download tasks\n",
      "2022-01-18 08:01:11,664 - INFO - downloader - downloader-004 is waiting for new download tasks\n",
      "2022-01-18 08:01:11,665 - INFO - downloader - downloader-003 is waiting for new download tasks\n",
      "2022-01-18 08:01:11,730 - INFO - downloader - downloader-002 is waiting for new download tasks\n",
      "2022-01-18 08:01:11,748 - INFO - downloader - downloader-001 is waiting for new download tasks\n",
      "2022-01-18 08:01:11,749 - INFO - downloader - downloader-005 is waiting for new download tasks\n",
      "2022-01-18 08:01:16,669 - INFO - downloader - downloader-004 is waiting for new download tasks\n",
      "2022-01-18 08:01:16,671 - INFO - downloader - downloader-003 is waiting for new download tasks\n",
      "2022-01-18 08:01:16,735 - INFO - downloader - downloader-002 is waiting for new download tasks\n",
      "2022-01-18 08:01:16,752 - INFO - downloader - downloader-001 is waiting for new download tasks\n",
      "2022-01-18 08:01:16,754 - INFO - downloader - downloader-005 is waiting for new download tasks\n",
      "2022-01-18 08:01:21,674 - INFO - downloader - downloader-004 is waiting for new download tasks\n",
      "2022-01-18 08:01:21,675 - INFO - downloader - downloader-003 is waiting for new download tasks\n",
      "2022-01-18 08:01:21,740 - INFO - downloader - downloader-002 is waiting for new download tasks\n",
      "2022-01-18 08:01:21,757 - INFO - downloader - downloader-001 is waiting for new download tasks\n",
      "2022-01-18 08:01:21,758 - INFO - downloader - downloader-005 is waiting for new download tasks\n",
      "2022-01-18 08:01:26,679 - INFO - downloader - downloader-004 is waiting for new download tasks\n",
      "2022-01-18 08:01:26,680 - INFO - downloader - downloader-003 is waiting for new download tasks\n",
      "2022-01-18 08:01:26,744 - INFO - downloader - downloader-002 is waiting for new download tasks\n",
      "2022-01-18 08:01:26,761 - INFO - downloader - downloader-001 is waiting for new download tasks\n"
     ]
    },
    {
     "name": "stderr",
     "output_type": "stream",
     "text": [
      "2022-01-18 08:01:26,761 - INFO - downloader - downloader-005 is waiting for new download tasks\n",
      "2022-01-18 08:01:31,684 - INFO - downloader - downloader-004 is waiting for new download tasks\n",
      "2022-01-18 08:01:31,685 - INFO - downloader - downloader-003 is waiting for new download tasks\n",
      "2022-01-18 08:01:31,749 - INFO - downloader - downloader-002 is waiting for new download tasks\n",
      "2022-01-18 08:01:31,766 - INFO - downloader - downloader-001 is waiting for new download tasks\n",
      "2022-01-18 08:01:31,768 - INFO - downloader - downloader-005 is waiting for new download tasks\n",
      "2022-01-18 08:01:36,689 - INFO - downloader - downloader-003 is waiting for new download tasks\n",
      "2022-01-18 08:01:36,689 - INFO - downloader - downloader-004 is waiting for new download tasks\n",
      "2022-01-18 08:01:36,755 - INFO - downloader - downloader-002 is waiting for new download tasks\n",
      "2022-01-18 08:01:36,773 - INFO - downloader - downloader-001 is waiting for new download tasks\n",
      "2022-01-18 08:01:36,773 - INFO - downloader - downloader-005 is waiting for new download tasks\n"
     ]
    }
   ],
   "source": [
    "crawl_images('okonomiyaki', 200, 'relevance')\n",
    "crawl_images('tiger', 200, 'relevance')\n",
    "crawl_images('leopard', 200, 'relevance')\n",
    "crawl_images('takoyaki', 50, 'relevance')\n",
    "crawl_images('takoyaki', 300, 'interestingness-desc')"
   ]
  },
  {
   "cell_type": "code",
   "execution_count": null,
   "metadata": {},
   "outputs": [],
   "source": []
  }
 ],
 "metadata": {
  "kernelspec": {
   "display_name": "Python 3",
   "language": "python",
   "name": "python3"
  },
  "language_info": {
   "codemirror_mode": {
    "name": "ipython",
    "version": 3
   },
   "file_extension": ".py",
   "mimetype": "text/x-python",
   "name": "python",
   "nbconvert_exporter": "python",
   "pygments_lexer": "ipython3",
   "version": "3.8.2"
  }
 },
 "nbformat": 4,
 "nbformat_minor": 4
}
